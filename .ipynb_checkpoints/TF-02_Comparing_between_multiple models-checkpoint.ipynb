{
 "cells": [
  {
   "cell_type": "markdown",
   "metadata": {},
   "source": [
    "### Comparing between multiple trained models"
   ]
  },
  {
   "cell_type": "code",
   "execution_count": 9,
   "metadata": {},
   "outputs": [],
   "source": [
    "from __future__ import absolute_import, division, print_function, unicode_literals\n",
    "import matplotlib.pyplot as plt\n",
    "import numpy as np\n",
    "import tensorflow as tf\n",
    "\n",
    "%matplotlib inline"
   ]
  },
  {
   "cell_type": "markdown",
   "metadata": {},
   "source": [
    "#### 1. Load and prepare the MNIST dataset\n",
    "\n",
    "Reminder that the popular MNIST dataset consists of 60,000 samples of digits. Each sample is a 28x28 grayscale image with values between 0 and 255. We also have access to 10,000 supplementary samples for the final testing of the trained model.The preprocessing here consists of normalizing the samples in order to get intensities between 0 and 1."
   ]
  },
  {
   "cell_type": "code",
   "execution_count": 10,
   "metadata": {},
   "outputs": [],
   "source": [
    "mnist = tf.keras.datasets.mnist\n",
    "\n",
    "(x_train, y_train), (x_test, y_test) = mnist.load_data()\n",
    "x_train, x_test = x_train / 255.0, x_test / 255.0"
   ]
  },
  {
   "cell_type": "code",
   "execution_count": 11,
   "metadata": {},
   "outputs": [
    {
     "name": "stdout",
     "output_type": "stream",
     "text": [
      "Training data shape:  (60000, 28, 28)\n",
      "Test data shape:  (10000, 28, 28)\n",
      "Training labels shape:  (60000,)\n",
      "Test labels shape:  (10000,)\n"
     ]
    }
   ],
   "source": [
    "print(\"Training data shape: \",x_train.shape)\n",
    "print(\"Test data shape: \",x_test.shape)\n",
    "print(\"Training labels shape: \",y_train.shape)\n",
    "print(\"Test labels shape: \",y_test.shape)"
   ]
  },
  {
   "cell_type": "code",
   "execution_count": 12,
   "metadata": {},
   "outputs": [
    {
     "name": "stdout",
     "output_type": "stream",
     "text": [
      "Digit label for test sample #15:  5\n"
     ]
    },
    {
     "data": {
      "image/png": "[encoded data removed]",
      "text/plain": [
       "<Figure size 432x288 with 1 Axes>"
      ]
     },
     "metadata": {
      "needs_background": "light"
     },
     "output_type": "display_data"
    }
   ],
   "source": [
    "plt.imshow(x_test[15,:,:],cmap='gray')\n",
    "plt.title('Test sample #15')\n",
    "print(\"Digit label for test sample #15: \",y_test[15])"
   ]
  },
  {
   "cell_type": "markdown",
   "metadata": {},
   "source": [
    "#### 2. Define multiple simple neural networks for MNIST classification\n",
    "\n",
    "We are going to try 4 models here:\n",
    "* Model 1: One hidden layer of 32 units, no regularization\n",
    "* Model 2: One hidden layer of 32 units, dropout regularization\n",
    "* Model 3: Two hidden layers of 32 and 16 units, no regularization\n",
    "* Model 4: One hidden layer of 32 units, sigmoid activation instead of ReLU"
   ]
  },
  {
   "cell_type": "code",
   "execution_count": 34,
   "metadata": {},
   "outputs": [],
   "source": [
    "model1 = tf.keras.models.Sequential([\n",
    "    tf.keras.layers.Flatten(input_shape=(28,28)),\n",
    "    tf.keras.layers.Dense(32, activation='relu'),\n",
    "    tf.keras.layers.Dense(10)])\n",
    "\n",
    "model2 = tf.keras.models.Sequential([\n",
    "    tf.keras.layers.Flatten(input_shape=(28,28)),\n",
    "    tf.keras.layers.Dense(32, activation='relu'),\n",
    "    tf.keras.layers.Dropout(0.5),\n",
    "    tf.keras.layers.Dense(10)])\n",
    "\n",
    "model3 = tf.keras.models.Sequential([\n",
    "    tf.keras.layers.Flatten(input_shape=(28,28)),\n",
    "    tf.keras.layers.Dense(32, activation='relu'),\n",
    "    tf.keras.layers.Dense(16, activation='relu'),\n",
    "    tf.keras.layers.Dense(10)])\n",
    "\n",
    "model4 = tf.keras.models.Sequential([\n",
    "    tf.keras.layers.Flatten(input_shape=(28,28)),\n",
    "    tf.keras.layers.Dense(32, activation='sigmoid'),\n",
    "    tf.keras.layers.Dense(10)])"
   ]
  },
  {
   "cell_type": "markdown",
   "metadata": {},
   "source": [
    "#### 3. Define the optimizer, loss function and metric for the training procedure\n",
    "\n",
    "We are going to use the same optimizer, loss and metric for all our models here."
   ]
  },
  {
   "cell_type": "code",
   "execution_count": 35,
   "metadata": {},
   "outputs": [],
   "source": [
    "optimizer = tf.keras.optimizers.Adam() # examples: 'Adam', 'RMSprop', 'Adagrad'\n",
    "loss = tf.keras.losses.SparseCategoricalCrossentropy(from_logits=True) # examples: 'BinaryCrossentropy', 'CategoricalCrossentropy'\n",
    "metrics = ['accuracy']"
   ]
  },
  {
   "cell_type": "markdown",
   "metadata": {},
   "source": [
    "#### 4. Compile and train the models\n",
    "\n",
    "For the training, we will be using a validation split of 70/30% (meaning that 70% of the training samples will be used for training and the other 30% will be used for monitoring the performance during training)."
   ]
  },
  {
   "cell_type": "code",
   "execution_count": 36,
   "metadata": {},
   "outputs": [],
   "source": [
    "model1.compile(optimizer, loss, metrics)\n",
    "model2.compile(optimizer, loss, metrics)\n",
    "model3.compile(optimizer, loss, metrics)\n",
    "model4.compile(optimizer, loss, metrics)"
   ]
  },
  {
   "cell_type": "code",
   "execution_count": 16,
   "metadata": {},
   "outputs": [
    {
     "name": "stdout",
     "output_type": "stream",
     "text": [
      "Train on 42000 samples, validate on 18000 samples\n",
      "Epoch 1/15\n",
      "42000/42000 [==============================] - 4s 106us/sample - loss: 0.4262 - accuracy: 0.8792 - val_loss: 0.2788 - val_accuracy: 0.9209\n",
      "Epoch 2/15\n",
      "42000/42000 [==============================] - 4s 86us/sample - loss: 0.2482 - accuracy: 0.9300 - val_loss: 0.2506 - val_accuracy: 0.9284\n",
      "Epoch 3/15\n",
      "42000/42000 [==============================] - 3s 83us/sample - loss: 0.2004 - accuracy: 0.9425 - val_loss: 0.2012 - val_accuracy: 0.9430\n",
      "Epoch 4/15\n",
      "42000/42000 [==============================] - 4s 84us/sample - loss: 0.1652 - accuracy: 0.9526 - val_loss: 0.1782 - val_accuracy: 0.9497\n",
      "Epoch 5/15\n",
      "42000/42000 [==============================] - 4s 88us/sample - loss: 0.1405 - accuracy: 0.9589 - val_loss: 0.1632 - val_accuracy: 0.9533\n",
      "Epoch 6/15\n",
      "42000/42000 [==============================] - 4s 83us/sample - loss: 0.1224 - accuracy: 0.9640 - val_loss: 0.1595 - val_accuracy: 0.9535\n",
      "Epoch 7/15\n",
      "42000/42000 [==============================] - 4s 100us/sample - loss: 0.1077 - accuracy: 0.9697 - val_loss: 0.1582 - val_accuracy: 0.9533\n",
      "Epoch 8/15\n",
      "42000/42000 [==============================] - 4s 84us/sample - loss: 0.0970 - accuracy: 0.9712 - val_loss: 0.1513 - val_accuracy: 0.9566\n",
      "Epoch 9/15\n",
      "42000/42000 [==============================] - 4s 86us/sample - loss: 0.0873 - accuracy: 0.9742 - val_loss: 0.1385 - val_accuracy: 0.9587\n",
      "Epoch 10/15\n",
      "42000/42000 [==============================] - 4s 85us/sample - loss: 0.0796 - accuracy: 0.9760 - val_loss: 0.1423 - val_accuracy: 0.9581\n",
      "Epoch 11/15\n",
      "42000/42000 [==============================] - 4s 84us/sample - loss: 0.0714 - accuracy: 0.9785 - val_loss: 0.1414 - val_accuracy: 0.9586\n",
      "Epoch 12/15\n",
      "42000/42000 [==============================] - 4s 100us/sample - loss: 0.0664 - accuracy: 0.9803 - val_loss: 0.1360 - val_accuracy: 0.9614\n",
      "Epoch 13/15\n",
      "42000/42000 [==============================] - 4s 87us/sample - loss: 0.0609 - accuracy: 0.9818 - val_loss: 0.1411 - val_accuracy: 0.9591\n",
      "Epoch 14/15\n",
      "42000/42000 [==============================] - 4s 87us/sample - loss: 0.0551 - accuracy: 0.9834 - val_loss: 0.1411 - val_accuracy: 0.9602\n",
      "Epoch 15/15\n",
      "42000/42000 [==============================] - 4s 84us/sample - loss: 0.0526 - accuracy: 0.9840 - val_loss: 0.1416 - val_accuracy: 0.9607\n"
     ]
    }
   ],
   "source": [
    "model1_history = model1.fit(x=x_train, y=y_train, batch_size=32,epochs=15,validation_split=0.3)"
   ]
  },
  {
   "cell_type": "code",
   "execution_count": 17,
   "metadata": {},
   "outputs": [
    {
     "name": "stdout",
     "output_type": "stream",
     "text": [
      "Train on 42000 samples, validate on 18000 samples\n",
      "Epoch 1/15\n",
      "42000/42000 [==============================] - 4s 104us/sample - loss: 0.7868 - accuracy: 0.7273 - val_loss: 0.3222 - val_accuracy: 0.9134\n",
      "Epoch 2/15\n",
      "42000/42000 [==============================] - 4s 96us/sample - loss: 0.6246 - accuracy: 0.7857 - val_loss: 0.2810 - val_accuracy: 0.9211\n",
      "Epoch 3/15\n",
      "42000/42000 [==============================] - 3s 82us/sample - loss: 0.5893 - accuracy: 0.8026 - val_loss: 0.2560 - val_accuracy: 0.9277\n",
      "Epoch 4/15\n",
      "42000/42000 [==============================] - 4s 84us/sample - loss: 0.5592 - accuracy: 0.8134 - val_loss: 0.2468 - val_accuracy: 0.9314\n",
      "Epoch 5/15\n",
      "42000/42000 [==============================] - 4s 92us/sample - loss: 0.5426 - accuracy: 0.8201 - val_loss: 0.2396 - val_accuracy: 0.9312\n",
      "Epoch 6/15\n",
      "42000/42000 [==============================] - 4s 88us/sample - loss: 0.5287 - accuracy: 0.8237 - val_loss: 0.2310 - val_accuracy: 0.9346\n",
      "Epoch 7/15\n",
      "42000/42000 [==============================] - 4s 93us/sample - loss: 0.5252 - accuracy: 0.8230 - val_loss: 0.2339 - val_accuracy: 0.9359\n",
      "Epoch 8/15\n",
      "42000/42000 [==============================] - 4s 97us/sample - loss: 0.5132 - accuracy: 0.8283 - val_loss: 0.2221 - val_accuracy: 0.9367\n",
      "Epoch 9/15\n",
      "42000/42000 [==============================] - 4s 96us/sample - loss: 0.5054 - accuracy: 0.8308 - val_loss: 0.2195 - val_accuracy: 0.9384\n",
      "Epoch 10/15\n",
      "42000/42000 [==============================] - 4s 87us/sample - loss: 0.4948 - accuracy: 0.8340 - val_loss: 0.2176 - val_accuracy: 0.9383\n",
      "Epoch 11/15\n",
      "42000/42000 [==============================] - 4s 95us/sample - loss: 0.4944 - accuracy: 0.8335 - val_loss: 0.2165 - val_accuracy: 0.9396\n",
      "Epoch 12/15\n",
      "42000/42000 [==============================] - 4s 89us/sample - loss: 0.4915 - accuracy: 0.8346 - val_loss: 0.2117 - val_accuracy: 0.9387\n",
      "Epoch 13/15\n",
      "42000/42000 [==============================] - 4s 96us/sample - loss: 0.4860 - accuracy: 0.8352 - val_loss: 0.2264 - val_accuracy: 0.9375\n",
      "Epoch 14/15\n",
      "42000/42000 [==============================] - 4s 84us/sample - loss: 0.4890 - accuracy: 0.8359 - val_loss: 0.2144 - val_accuracy: 0.9404\n",
      "Epoch 15/15\n",
      "42000/42000 [==============================] - 4s 90us/sample - loss: 0.4800 - accuracy: 0.8383 - val_loss: 0.2174 - val_accuracy: 0.9401\n"
     ]
    }
   ],
   "source": [
    "model2_history = model2.fit(x=x_train, y=y_train, batch_size=32,epochs=15,validation_split=0.3)"
   ]
  },
  {
   "cell_type": "code",
   "execution_count": 37,
   "metadata": {},
   "outputs": [
    {
     "name": "stdout",
     "output_type": "stream",
     "text": [
      "Train on 42000 samples, validate on 18000 samples\n",
      "Epoch 1/15\n",
      "42000/42000 [==============================] - 4s 106us/sample - loss: 0.4472 - accuracy: 0.8700 - val_loss: 0.2447 - val_accuracy: 0.9287\n",
      "Epoch 2/15\n",
      "42000/42000 [==============================] - 4s 86us/sample - loss: 0.1986 - accuracy: 0.9422 - val_loss: 0.2063 - val_accuracy: 0.9386\n",
      "Epoch 3/15\n",
      "42000/42000 [==============================] - 4s 85us/sample - loss: 0.1575 - accuracy: 0.9530 - val_loss: 0.1822 - val_accuracy: 0.9463\n",
      "Epoch 4/15\n",
      "42000/42000 [==============================] - 4s 92us/sample - loss: 0.1342 - accuracy: 0.9601 - val_loss: 0.1617 - val_accuracy: 0.9526\n",
      "Epoch 5/15\n",
      "42000/42000 [==============================] - 4s 88us/sample - loss: 0.1149 - accuracy: 0.9651 - val_loss: 0.1536 - val_accuracy: 0.9560\n",
      "Epoch 6/15\n",
      "42000/42000 [==============================] - 4s 85us/sample - loss: 0.1016 - accuracy: 0.9688 - val_loss: 0.1467 - val_accuracy: 0.9588\n",
      "Epoch 7/15\n",
      "42000/42000 [==============================] - 4s 88us/sample - loss: 0.0897 - accuracy: 0.9724 - val_loss: 0.1407 - val_accuracy: 0.9596\n",
      "Epoch 8/15\n",
      "42000/42000 [==============================] - 4s 89us/sample - loss: 0.0809 - accuracy: 0.9748 - val_loss: 0.1608 - val_accuracy: 0.9543\n",
      "Epoch 9/15\n",
      "42000/42000 [==============================] - 4s 97us/sample - loss: 0.0720 - accuracy: 0.9776 - val_loss: 0.1384 - val_accuracy: 0.9600\n",
      "Epoch 10/15\n",
      "42000/42000 [==============================] - 4s 101us/sample - loss: 0.0666 - accuracy: 0.9790 - val_loss: 0.1463 - val_accuracy: 0.9588\n",
      "Epoch 11/15\n",
      "42000/42000 [==============================] - 4s 99us/sample - loss: 0.0599 - accuracy: 0.9811 - val_loss: 0.1523 - val_accuracy: 0.9581\n",
      "Epoch 12/15\n",
      "42000/42000 [==============================] - 4s 91us/sample - loss: 0.0556 - accuracy: 0.9820 - val_loss: 0.1489 - val_accuracy: 0.9616\n",
      "Epoch 13/15\n",
      "42000/42000 [==============================] - 4s 86us/sample - loss: 0.0508 - accuracy: 0.9832 - val_loss: 0.1447 - val_accuracy: 0.9611\n",
      "Epoch 14/15\n",
      "42000/42000 [==============================] - 4s 97us/sample - loss: 0.0467 - accuracy: 0.9862 - val_loss: 0.1497 - val_accuracy: 0.9627\n",
      "Epoch 15/15\n",
      "42000/42000 [==============================] - 4s 87us/sample - loss: 0.0437 - accuracy: 0.9865 - val_loss: 0.1533 - val_accuracy: 0.9611\n"
     ]
    }
   ],
   "source": [
    "model3_history = model3.fit(x=x_train, y=y_train, batch_size=32,epochs=15,validation_split=0.3)"
   ]
  },
  {
   "cell_type": "code",
   "execution_count": 19,
   "metadata": {},
   "outputs": [
    {
     "name": "stdout",
     "output_type": "stream",
     "text": [
      "Train on 42000 samples, validate on 18000 samples\n",
      "Epoch 1/15\n",
      "42000/42000 [==============================] - 4s 91us/sample - loss: 0.4236 - accuracy: 0.8919 - val_loss: 0.2780 - val_accuracy: 0.9254\n",
      "Epoch 2/15\n",
      "42000/42000 [==============================] - 4s 87us/sample - loss: 0.2478 - accuracy: 0.9313 - val_loss: 0.2376 - val_accuracy: 0.9341\n",
      "Epoch 3/15\n",
      "42000/42000 [==============================] - 3s 82us/sample - loss: 0.2095 - accuracy: 0.9412 - val_loss: 0.2138 - val_accuracy: 0.9414\n",
      "Epoch 4/15\n",
      "42000/42000 [==============================] - 5s 115us/sample - loss: 0.1847 - accuracy: 0.9480 - val_loss: 0.2003 - val_accuracy: 0.9437\n",
      "Epoch 5/15\n",
      "42000/42000 [==============================] - 3s 80us/sample - loss: 0.1669 - accuracy: 0.9524 - val_loss: 0.1866 - val_accuracy: 0.9488\n",
      "Epoch 6/15\n",
      "42000/42000 [==============================] - 4s 86us/sample - loss: 0.1519 - accuracy: 0.9563 - val_loss: 0.1808 - val_accuracy: 0.9499\n",
      "Epoch 7/15\n",
      "42000/42000 [==============================] - 4s 89us/sample - loss: 0.1401 - accuracy: 0.9599 - val_loss: 0.1728 - val_accuracy: 0.9515\n",
      "Epoch 8/15\n",
      "42000/42000 [==============================] - 3s 83us/sample - loss: 0.1303 - accuracy: 0.9625 - val_loss: 0.1670 - val_accuracy: 0.9533\n",
      "Epoch 9/15\n",
      "42000/42000 [==============================] - 4s 93us/sample - loss: 0.1218 - accuracy: 0.9658 - val_loss: 0.1656 - val_accuracy: 0.9520\n",
      "Epoch 10/15\n",
      "42000/42000 [==============================] - 4s 87us/sample - loss: 0.1139 - accuracy: 0.9677 - val_loss: 0.1638 - val_accuracy: 0.9534\n",
      "Epoch 11/15\n",
      "42000/42000 [==============================] - 4s 89us/sample - loss: 0.1068 - accuracy: 0.9700 - val_loss: 0.1590 - val_accuracy: 0.9550\n",
      "Epoch 12/15\n",
      "42000/42000 [==============================] - 3s 83us/sample - loss: 0.1014 - accuracy: 0.9711 - val_loss: 0.1579 - val_accuracy: 0.9557\n",
      "Epoch 13/15\n",
      "42000/42000 [==============================] - 5s 119us/sample - loss: 0.0957 - accuracy: 0.9730 - val_loss: 0.1536 - val_accuracy: 0.9564\n",
      "Epoch 14/15\n",
      "42000/42000 [==============================] - 4s 102us/sample - loss: 0.0906 - accuracy: 0.9750 - val_loss: 0.1533 - val_accuracy: 0.9553\n",
      "Epoch 15/15\n",
      "42000/42000 [==============================] - 4s 95us/sample - loss: 0.0863 - accuracy: 0.9758 - val_loss: 0.1523 - val_accuracy: 0.9564\n"
     ]
    }
   ],
   "source": [
    "model4_history = model4.fit(x=x_train, y=y_train, batch_size=32,epochs=15,validation_split=0.3)"
   ]
  },
  {
   "cell_type": "markdown",
   "metadata": {},
   "source": [
    "#### 5. Compare the 4 models by plotting the loss and accuracy curves"
   ]
  },
  {
   "cell_type": "code",
   "execution_count": 39,
   "metadata": {},
   "outputs": [
    {
     "data": {
      "image/png": "[encoded data removed]",
      "text/plain": [
       "<Figure size 432x288 with 1 Axes>"
      ]
     },
     "metadata": {
      "needs_background": "light"
     },
     "output_type": "display_data"
    }
   ],
   "source": [
    "# Plot training & validation accuracy values\n",
    "plt.plot(model1_history.history['val_accuracy'],'--b')\n",
    "plt.plot(model2_history.history['val_accuracy'],'--g')\n",
    "plt.plot(model3_history.history['val_accuracy'],'--y')\n",
    "plt.plot(model4_history.history['val_accuracy'],'--m')\n",
    "\n",
    "plt.title('Validation accuracy of the 4 models')\n",
    "plt.ylabel('Accuracy')\n",
    "plt.xlabel('Epoch')\n",
    "plt.legend(['Model 1', 'Model 2', 'Model 3', 'Model 4'], loc='lower right')\n",
    "plt.show()"
   ]
  },
  {
   "cell_type": "markdown",
   "metadata": {},
   "source": [
    "#### 6. Select the model with the highest accuracy and retrain it on all the training data (training + validation)"
   ]
  },
  {
   "cell_type": "code",
   "execution_count": 41,
   "metadata": {},
   "outputs": [
    {
     "name": "stdout",
     "output_type": "stream",
     "text": [
      "Train on 60000 samples\n",
      "Epoch 1/15\n",
      "60000/60000 [==============================] - 4s 69us/sample - loss: 0.3005 - accuracy: 0.9108\n",
      "Epoch 2/15\n",
      "60000/60000 [==============================] - 4s 75us/sample - loss: 0.1774 - accuracy: 0.9482\n",
      "Epoch 3/15\n",
      "60000/60000 [==============================] - 4s 65us/sample - loss: 0.1483 - accuracy: 0.9566\n",
      "Epoch 4/15\n",
      "60000/60000 [==============================] - 4s 68us/sample - loss: 0.1322 - accuracy: 0.9610\n",
      "Epoch 5/15\n",
      "60000/60000 [==============================] - 4s 65us/sample - loss: 0.1196 - accuracy: 0.9645\n",
      "Epoch 6/15\n",
      "60000/60000 [==============================] - 4s 65us/sample - loss: 0.1094 - accuracy: 0.9671\n",
      "Epoch 7/15\n",
      "60000/60000 [==============================] - 5s 79us/sample - loss: 0.1012 - accuracy: 0.9690s - loss: 0.1011 - accuracy: 0.96\n",
      "Epoch 8/15\n",
      "60000/60000 [==============================] - 4s 72us/sample - loss: 0.0957 - accuracy: 0.9710\n",
      "Epoch 9/15\n",
      "60000/60000 [==============================] - 4s 66us/sample - loss: 0.0890 - accuracy: 0.9729s - loss: 0.0882 - accura\n",
      "Epoch 10/15\n",
      "60000/60000 [==============================] - 4s 74us/sample - loss: 0.0837 - accuracy: 0.9744\n",
      "Epoch 11/15\n",
      "60000/60000 [==============================] - 4s 64us/sample - loss: 0.0785 - accuracy: 0.9758\n",
      "Epoch 12/15\n",
      "60000/60000 [==============================] - 4s 75us/sample - loss: 0.0751 - accuracy: 0.9767\n",
      "Epoch 13/15\n",
      "60000/60000 [==============================] - 4s 72us/sample - loss: 0.0718 - accuracy: 0.9776\n",
      "Epoch 14/15\n",
      "60000/60000 [==============================] - 4s 66us/sample - loss: 0.0683 - accuracy: 0.9785\n",
      "Epoch 15/15\n",
      "60000/60000 [==============================] - 4s 73us/sample - loss: 0.0652 - accuracy: 0.9791\n"
     ]
    }
   ],
   "source": [
    "model = tf.keras.models.Sequential([\n",
    "    tf.keras.layers.Flatten(input_shape=(28,28)),\n",
    "    tf.keras.layers.Dense(32, activation='relu'),\n",
    "    tf.keras.layers.Dense(16, activation='relu'),\n",
    "    tf.keras.layers.Dense(10)])\n",
    "\n",
    "model.compile(optimizer, loss, metrics)\n",
    "\n",
    "model_history = model.fit(x=x_train, y=y_train, batch_size=32,epochs=15)"
   ]
  },
  {
   "cell_type": "markdown",
   "metadata": {},
   "source": [
    "#### 7. Evaluate the performance of the trained model on test (unseen) data"
   ]
  },
  {
   "cell_type": "code",
   "execution_count": 42,
   "metadata": {},
   "outputs": [
    {
     "name": "stdout",
     "output_type": "stream",
     "text": [
      "10000/10000 - 1s - loss: 0.1400 - accuracy: 0.9625\n"
     ]
    },
    {
     "data": {
      "text/plain": [
       "[0.1399819991726894, 0.9625]"
      ]
     },
     "execution_count": 42,
     "metadata": {},
     "output_type": "execute_result"
    }
   ],
   "source": [
    "model.evaluate(x_test, y_test, verbose=2)"
   ]
  },
  {
   "cell_type": "markdown",
   "metadata": {},
   "source": [
    "#### 8. Make a prediction using the model"
   ]
  },
  {
   "cell_type": "code",
   "execution_count": 44,
   "metadata": {},
   "outputs": [
    {
     "name": "stdout",
     "output_type": "stream",
     "text": [
      "Classes predicted by the model:  [0 6 9 0 1 5 9 7 3 4 9 6 6 5 4]\n",
      "Targets:  [0 6 9 0 1 5 9 7 3 4 9 6 6 5 4]\n"
     ]
    }
   ],
   "source": [
    "test_predicted = model.predict_classes(x_test[10:25,:,:])\n",
    "print(\"Classes predicted by the model: \",test_predicted)\n",
    "print(\"Targets: \",y_test[10:25])"
   ]
  },
  {
   "cell_type": "code",
   "execution_count": null,
   "metadata": {},
   "outputs": [],
   "source": []
  },
  {
   "cell_type": "code",
   "execution_count": null,
   "metadata": {},
   "outputs": [],
   "source": []
  }
 ],
 "metadata": {
  "kernelspec": {
   "display_name": "Python 2",
   "language": "python",
   "name": "python2"
  },
  "language_info": {
   "codemirror_mode": {
    "name": "ipython",
    "version": 2
   },
   "file_extension": ".py",
   "mimetype": "text/x-python",
   "name": "python",
   "nbconvert_exporter": "python",
   "pygments_lexer": "ipython2",
   "version": "2.7.10"
  }
 },
 "nbformat": 4,
 "nbformat_minor": 2
}
